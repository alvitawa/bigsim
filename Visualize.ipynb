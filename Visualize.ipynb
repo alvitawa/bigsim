{
 "cells": [
  {
   "cell_type": "code",
   "execution_count": 1,
   "metadata": {},
   "outputs": [],
   "source": [
    "from lib.simulation import Statistics, load_logs, stats_to_numpy\n",
    "\n",
    "path = 'logs/vis2'\n",
    "\n",
    "pars, stats = load_logs(path)\n"
   ]
  },
  {
   "cell_type": "code",
   "execution_count": 2,
   "metadata": {},
   "outputs": [
    {
     "name": "stdout",
     "output_type": "stream",
     "text": [
      "{'agility': 0.2,\n",
      " 'alignment_range': 0.8,\n",
      " 'alignment_weight': 0.22,\n",
      " 'boid_count': 250,\n",
      " 'cluster_method': 'LARS_CLUSTERING',\n",
      " 'cohesion_range': 0.85,\n",
      " 'cohesion_weight': 0.2,\n",
      " 'max_steps': 10000,\n",
      " 'obstacle_range': 0.9,\n",
      " 'obstacle_weight': 15.0,\n",
      " 'resolution': 40,\n",
      " 'separation_range': 0.4,\n",
      " 'separation_weight': 200.0,\n",
      " 'shape': [10, 7],\n",
      " 'shark_agility': 0.1,\n",
      " 'shark_cohesion_range': 8.0,\n",
      " 'shark_cohesion_weight': 20.0,\n",
      " 'shark_count': 5,\n",
      " 'shark_range': 1.4000000000000001,\n",
      " 'shark_separation_range': 1.0,\n",
      " 'shark_separation_weight': 20.0,\n",
      " 'shark_speed': 0.02,\n",
      " 'shark_weight': 15.0,\n",
      " 'speed': 0.03,\n",
      " 'speedup_lower_threshold': 10,\n",
      " 'speedup_upper_threshold': 100,\n",
      " 'wall_range': 0.75,\n",
      " 'wall_weight': 100}\n"
     ]
    }
   ],
   "source": [
    "import pprint\n",
    "\n",
    "pprint.pprint(pars.to_dict())"
   ]
  },
  {
   "cell_type": "code",
   "execution_count": 3,
   "metadata": {},
   "outputs": [
    {
     "data": {
      "text/plain": [
       "[lib.simulation.Statistics,\n",
       " lib.simulation.Statistics,\n",
       " lib.simulation.Statistics,\n",
       " lib.simulation.Statistics,\n",
       " lib.simulation.Statistics,\n",
       " lib.simulation.Statistics,\n",
       " lib.simulation.Statistics,\n",
       " lib.simulation.Statistics,\n",
       " lib.simulation.Statistics,\n",
       " lib.simulation.Statistics]"
      ]
     },
     "execution_count": 3,
     "metadata": {},
     "output_type": "execute_result"
    }
   ],
   "source": [
    "list(type(stat) for stat in stats)"
   ]
  },
  {
   "cell_type": "code",
   "execution_count": 4,
   "metadata": {},
   "outputs": [
    {
     "ename": "AssertionError",
     "evalue": "",
     "output_type": "error",
     "traceback": [
      "\u001b[0;31m---------------------------\u001b[0m",
      "\u001b[0;31mAssertionError\u001b[0mTraceback (most recent call last)",
      "\u001b[0;32m<ipython-input-4-26121a27c297>\u001b[0m in \u001b[0;36m<module>\u001b[0;34m\u001b[0m\n\u001b[0;32m----> 1\u001b[0;31m \u001b[0;32massert\u001b[0m \u001b[0mall\u001b[0m\u001b[0;34m(\u001b[0m\u001b[0mstat\u001b[0m\u001b[0;34m.\u001b[0m\u001b[0miterations\u001b[0m \u001b[0;34m==\u001b[0m \u001b[0mpars\u001b[0m\u001b[0;34m.\u001b[0m\u001b[0mmax_steps\u001b[0m \u001b[0;32mfor\u001b[0m \u001b[0mstat\u001b[0m \u001b[0;32min\u001b[0m \u001b[0mstats\u001b[0m\u001b[0;34m)\u001b[0m\u001b[0;34m\u001b[0m\u001b[0;34m\u001b[0m\u001b[0m\n\u001b[0m",
      "\u001b[0;31mAssertionError\u001b[0m: "
     ]
    }
   ],
   "source": [
    "assert all(stat.iterations == pars.max_steps for stat in stats)"
   ]
  },
  {
   "cell_type": "code",
   "execution_count": null,
   "metadata": {},
   "outputs": [],
   "source": [
    "%pylab\n",
    "%matplotlib inline\n",
    "from scipy.stats import entropy"
   ]
  },
  {
   "cell_type": "code",
   "execution_count": null,
   "metadata": {},
   "outputs": [],
   "source": [
    "s, bc, sc, ss = stats[0].to_numpy(pars)\n",
    "x = np.arange(s)"
   ]
  },
  {
   "cell_type": "code",
   "execution_count": null,
   "metadata": {},
   "outputs": [],
   "source": [
    "fig, ax = plt.subplots(1, 1)\n",
    "ax.plot(x, bc, c='b')\n",
    "ax2 = ax.twinx()\n",
    "ax2.plot(x, sc, c='g')\n",
    "plt.show()"
   ]
  },
  {
   "cell_type": "code",
   "execution_count": null,
   "metadata": {},
   "outputs": [],
   "source": [
    "ssen = entropy(ss, axis=1)\n",
    "plt.plot(x, ssen)"
   ]
  },
  {
   "cell_type": "code",
   "execution_count": null,
   "metadata": {},
   "outputs": [],
   "source": [
    "!pip3 update scipy"
   ]
  },
  {
   "cell_type": "code",
   "execution_count": null,
   "metadata": {},
   "outputs": [],
   "source": [
    "s, bc, sc, ss = stats_to_numpy(stats, pars)\n",
    "x = np.arange(s)\n",
    "ss.shape"
   ]
  },
  {
   "cell_type": "code",
   "execution_count": null,
   "metadata": {},
   "outputs": [],
   "source": [
    "fig, ax = plt.subplots(1, 1)\n",
    "ax.plot(x, bc.mean(axis=0), c='b')\n",
    "ax2 = ax.twinx()\n",
    "ax2.plot(x, sc.mean(axis=0), c='g')\n",
    "plt.show()"
   ]
  },
  {
   "cell_type": "code",
   "execution_count": null,
   "metadata": {},
   "outputs": [],
   "source": [
    "ssen = entropy(ss.mean(axis=0), axis=1)\n",
    "plt.plot(x, ssen)"
   ]
  },
  {
   "cell_type": "code",
   "execution_count": null,
   "metadata": {},
   "outputs": [],
   "source": [
    "(stats[0].duration, stats[0].iterations)"
   ]
  },
  {
   "cell_type": "code",
   "execution_count": null,
   "metadata": {},
   "outputs": [],
   "source": []
  }
 ],
 "metadata": {
  "kernelspec": {
   "display_name": "Python 3.6.9 64-bit",
   "language": "python",
   "name": "python36964biteb066796a7954c21adecd0d4f6c0b61a"
  },
  "language_info": {
   "codemirror_mode": {
    "name": "ipython",
    "version": 3
   },
   "file_extension": ".py",
   "mimetype": "text/x-python",
   "name": "python",
   "nbconvert_exporter": "python",
   "pygments_lexer": "ipython3",
   "version": "3.6.9"
  }
 },
 "nbformat": 4,
 "nbformat_minor": 4
}
