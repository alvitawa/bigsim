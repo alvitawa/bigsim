{
 "cells": [
  {
   "cell_type": "code",
   "execution_count": null,
   "metadata": {
    "cell_id": "00001-fe4bd303-3264-4b05-98db-ad07fbe2b37c",
    "deepnote_cell_type": "code",
    "deepnote_to_be_reexecuted": false,
    "execution_millis": 36,
    "execution_start": 1611319759021,
    "source_hash": "bedd2e28",
    "tags": []
   },
   "outputs": [],
   "source": [
    "from lib.statistics import Statistics, stats_to_numpy, load_logs\n",
    "import os\n",
    "%pylab\n",
    "%matplotlib inline"
   ]
  },
  {
   "cell_type": "code",
   "execution_count": null,
   "metadata": {},
   "outputs": [],
   "source": [
    "log_folder_prefix = 'single_new_coh'\n",
    "xlabel = \"Weight of Cohesion (%)\""
   ]
  },
  {
   "cell_type": "code",
   "execution_count": null,
   "metadata": {
    "cell_id": "00002-95d02ddf-c07a-4df0-b6e7-20e63713fd2e",
    "deepnote_cell_type": "code",
    "deepnote_to_be_reexecuted": false,
    "execution_millis": 7609,
    "execution_start": 1611326394295,
    "source_hash": "3c031501",
    "tags": []
   },
   "outputs": [],
   "source": [
    "\"\"\"\n",
    "Parse data from logs\n",
    "\"\"\"\n",
    "\n",
    "paths = [\"logs/\" + path for path in os.listdir(\"logs\") if path[:len(log_folder_prefix)] == log_folder_prefix]\n",
    "\n",
    "data = {} # data = {cohesion : {\"boid_count\":array([simulations x measurements]), \"\"}}\n",
    "\n",
    "for path in sorted(paths):\n",
    "    ratio = float(path[5+len(log_folder_prefix):])\n",
    "    \n",
    "    pars, stats = load_logs(path)\n",
    "    s, bc, sc, ss = stats_to_numpy(stats, pars)\n",
    "\n",
    "    ratio_dic = {\"boid_count\" : bc[:, :-1], \"school_count\" : sc[:, :-1], \"school_size\" : ss[:, :-1]}\n",
    "\n",
    "    data[ratio] = ratio_dic\n",
    "    \n",
    "print(\"Loaded in:\", [np.round(a, 3) for a in data.keys()])"
   ]
  },
  {
   "cell_type": "code",
   "execution_count": null,
   "metadata": {
    "cell_id": "00004-e2c59ee6-7125-475a-a1d1-09c599d02241",
    "deepnote_cell_type": "code",
    "deepnote_to_be_reexecuted": false,
    "execution_millis": 12,
    "execution_start": 1611324891891,
    "source_hash": "62302460",
    "tags": []
   },
   "outputs": [],
   "source": [
    "\"\"\"\n",
    "Bar plot displaying surviving distribution after 'cutoff' iterations\n",
    "\"\"\"\n",
    "\n",
    "# Process data\n",
    "cutoff = 6500\n",
    "\n",
    "surviving = []\n",
    "surviving_std = []\n",
    "\n",
    "xs = np.linspace(0, 1, 20, endpoint=True)\n",
    "\n",
    "for i, (cohesion, cohesion_data) in enumerate(data.items()):\n",
    "    if cohesion in xs:\n",
    "        means = np.mean(cohesion_data[\"boid_count\"], axis=0)\n",
    "        stds = np.std(cohesion_data[\"boid_count\"], axis=0)\n",
    "\n",
    "        surviving.append(means[cutoff // pars.resolution])\n",
    "        surviving_std.append(stds[cutoff // pars.resolution])\n",
    "\n",
    "# Create plot\n",
    "fig, ax = plt.subplots(figsize=(5,5))\n",
    "\n",
    "ax.set_title(\"Survival rate of fish after \" + str(cutoff) + \" iterations\")\n",
    "ax.set_ylabel(\"Alive fish (% of total)\")\n",
    "ax.set_xlabel(xlabel)\n",
    "\n",
    "ax.set_xlim(0,100)\n",
    "ax.set_ylim(0,100)\n",
    "for i in [20, 40, 60, 80, 100]:\n",
    "    ax.axhline(i, color='gray', linestyle='dashed', alpha=0.1)\n",
    "    \n",
    "ax.bar(xs * 100, np.array(surviving)/250*100, yerr=np.array(surviving_std)/250*100, width=4, color=\"steelblue\",\n",
    "error_kw=dict(ecolor='black', lw=1, capsize=5, capthick=2))\n",
    "\n",
    "plt.show()"
   ]
  },
  {
   "cell_type": "code",
   "execution_count": null,
   "metadata": {},
   "outputs": [],
   "source": [
    "def percent_deviation(array, percent):\n",
    "    \"\"\"\n",
    "    Returns the performance of the top percent%\n",
    "    \"\"\"\n",
    "    rank = np.argsort(array.T)\n",
    "\n",
    "    r = int(percent * len(array))\n",
    "    result = array.T[np.arange(len(array.T)), rank[:, r]]\n",
    "    \n",
    "    return result"
   ]
  },
  {
   "cell_type": "code",
   "execution_count": null,
   "metadata": {},
   "outputs": [],
   "source": [
    "\"\"\"\n",
    "Line graph displaying the consistency and progression during simulations for different parameters\n",
    "\"\"\"\n",
    "labels = [\"boid_count\", \"school_count\"] \n",
    "scaling = {\"boid_count\":250/100, \"school_count\":1}\n",
    "\n",
    "selected_ratios = [0.000, 0.263, 0.5, 0.737, 1]\n",
    "\n",
    "band_percent_width = 0.341\n",
    "\n",
    "for label in labels:\n",
    "    fig, ax = plt.subplots(figsize=(14,7))\n",
    "\n",
    "    color_map = plt.get_cmap(\"copper\").reversed()\n",
    "    sm = plt.cm.ScalarMappable(cmap=color_map)\n",
    "    \n",
    "    for i, (cohesion, cohesion_data) in enumerate(data.items()):\n",
    "            if not selected_ratios:\n",
    "                pass\n",
    "            elif np.round(cohesion, 3) not in selected_ratios:\n",
    "                continue\n",
    "            \n",
    "            array = cohesion_data[label]\n",
    "                \n",
    "            mean_school_progression = np.mean(array, axis=0)\n",
    "            xs = np.arange(0, len(mean_school_progression)) * pars.resolution\n",
    "            \n",
    "            ax.plot(xs,\n",
    "                    np.array(mean_school_progression)/scaling[label], color = color_map(i/len(paths)),\n",
    "                    label=str(round(cohesion*100))+\"%\")\n",
    "            \n",
    "            \n",
    "            ax.fill_between(xs,\n",
    "                            percent_deviation(array, 0.5-band_percent_width)/scaling[label], \n",
    "                            percent_deviation(array, 0.5+band_percent_width)/scaling[label], \n",
    "                            alpha=0.1, color = color_map(i/len(paths)))\n",
    "    if not selected_ratios:\n",
    "        fig.colorbar(sm, label=\"cohesion influence over allignment influence\")\n",
    "    else:\n",
    "        plt.legend()\n",
    "\n",
    "    ax.set_title(\"Progress of \" + label)\n",
    "\n",
    "    ax.set_ylabel(label)\n",
    "\n",
    "    ax.set_xlabel(\"Simulation Progress (%)\")\n",
    "\n",
    "    ax.set_xlim(0, max(xs))\n",
    "    plt.show()"
   ]
  }
 ],
 "metadata": {
  "deepnote_execution_queue": [],
  "deepnote_notebook_id": "a90cccbe-9f5d-4050-9534-8539b8381762",
  "kernelspec": {
   "display_name": "Python 3",
   "language": "python",
   "name": "python3"
  },
  "language_info": {
   "codemirror_mode": {
    "name": "ipython",
    "version": 3
   },
   "file_extension": ".py",
   "mimetype": "text/x-python",
   "name": "python",
   "nbconvert_exporter": "python",
   "pygments_lexer": "ipython3",
   "version": "3.8.3"
  }
 },
 "nbformat": 4,
 "nbformat_minor": 2
}
